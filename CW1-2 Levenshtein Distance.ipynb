{
 "cells": [
  {
   "cell_type": "markdown",
   "metadata": {},
   "source": [
    "# Algorithms 202: Coursework 1 Task 2: Levenshtein Distance"
   ]
  },
  {
   "cell_type": "markdown",
   "metadata": {},
   "source": [
    "Group-ID: 23"
   ]
  },
  {
   "cell_type": "markdown",
   "metadata": {},
   "source": [
    "Group members: \n",
    "* John Oliver (jpo14)\n",
    "* Bálint Rikker (br1414)\n",
    "* Peng Peng (pp3613)"
   ]
  },
  {
   "cell_type": "markdown",
   "metadata": {},
   "source": [
    "# Objectives"
   ]
  },
  {
   "cell_type": "markdown",
   "metadata": {},
   "source": [
    "The aim of this coursework is to enhance your algorithmic skills by mastering the divide and conquer and dynamic programming strategies. You are asked to show that you can:\n",
    "\n",
    "- implement a dynamic programming problem\n",
    "\n",
    "This notebook *is* the coursework. It contains cells with function definitions that you will need to complete. You will submit this notebook as your coursework.\n",
    "\n",
    "The comparisons of different algorithms involve textual descriptions and graphical plots. For graphing you will be using [matplotlib](http://matplotlib.org/index.html) to generate plots. [This tutorial](http://matplotlib.org/index.html) will be useful to go through to get you up to speed. For the textual descriptions you may wish to use [LaTeX](http://en.wikipedia.org/wiki/LaTeX) in-line like $\\mathcal{O}(n\\log{}n)$. Double click this cell to reveal the required markup - and [see here](http://texblog.org/2014/06/24/big-o-and-related-notations-in-latex/) for useful guidance on producing common symbols used in asymptotic run time analysis."
   ]
  },
  {
   "cell_type": "markdown",
   "metadata": {},
   "source": [
    "# Preliminaries: helper functions"
   ]
  },
  {
   "cell_type": "markdown",
   "metadata": {},
   "source": [
    "Here we define a collection of functions that will be useful for the rest of the coursework. You'll need to run this cell to get started."
   ]
  },
  {
   "cell_type": "code",
   "execution_count": 1,
   "metadata": {
    "collapsed": false
   },
   "outputs": [
    {
     "name": "stdout",
     "output_type": "stream",
     "text": [
      "loaded set of words into 'wordlist' variable\n"
     ]
    }
   ],
   "source": [
    "# so our plots get drawn in the notebook\n",
    "%matplotlib inline\n",
    "from matplotlib import pyplot as plt\n",
    "import numpy as np\n",
    "from pathlib import Path\n",
    "from sys import maxsize\n",
    "from time import clock\n",
    "from urllib.request import urlretrieve\n",
    "\n",
    "# a timer - runs the provided function and reports the\n",
    "# run time in ms\n",
    "def time_f(f):\n",
    "    before = clock()\n",
    "    f()\n",
    "    after = clock()\n",
    "    return after - before\n",
    "\n",
    "# we can get a word list from here - we download it once\n",
    "# to 'wordlist.txt' and then reuse this file.\n",
    "url = 'http://www.doc.ic.ac.uk/~bglocker/teaching/wordlist.txt'\n",
    "if not Path('wordlist.txt').exists():\n",
    "    print(\"downloading word list...\")\n",
    "    urlretrieve(url, 'wordlist.txt')\n",
    "    print('acquired word list.')\n",
    "    \n",
    "with open('wordlist.txt') as f:\n",
    "    # here we use a *set* comprehension - just\n",
    "    # like we've done with lists in the past but\n",
    "    # the result is a set so each element is\n",
    "    # guaranteed to be unique.\n",
    "    # https://docs.python.org/3/tutorial/datastructures.html#sets\n",
    "    # note that you can loop over a set just like you would a list\n",
    "    wordlist = {l.strip() for l in f.readlines()}\n",
    "    print(\"loaded set of words into 'wordlist' variable\")"
   ]
  },
  {
   "cell_type": "markdown",
   "metadata": {},
   "source": [
    "## Task 2: Levenshtein Distance"
   ]
  },
  {
   "cell_type": "markdown",
   "metadata": {},
   "source": [
    "### 2a. Implement `levenshtein_distance`"
   ]
  },
  {
   "cell_type": "markdown",
   "metadata": {},
   "source": [
    "Complete the below definition for `levenshtein_distance`. Do not change the name of the function or it's arguments. \n",
    "\n",
    "\n",
    "Hints:\n",
    "\n",
    "- You are given access to numpy (`np`). Numpy is the crown jewel of the scientific Python community - it provides a multidimensional array (`np.array()`) which can be very convenient to solve problems involving matrices."
   ]
  },
  {
   "cell_type": "code",
   "execution_count": 2,
   "metadata": {
    "collapsed": false
   },
   "outputs": [],
   "source": [
    "# an implementation of Levenshtein Distance\n",
    "def levenshtein_distance(x, y):\n",
    "    # if either str has 0 length return length of the other as edit length\n",
    "    xlen = len(x)\n",
    "    ylen = len(y)\n",
    "    if xlen == 0:\n",
    "        return ylen\n",
    "    if ylen == 0:\n",
    "        return xlen\n",
    "    \n",
    "    # create dp arrays\n",
    "    a = np.zeros((xlen + 1, ylen + 1))\n",
    "    \n",
    "    # intialise 0-th row and column\n",
    "    for i in range(0, xlen + 1):\n",
    "        a[i, 0] = i\n",
    "    for i in range(0, ylen + 1):\n",
    "        a[0, i] = i\n",
    "    # computing edit length\n",
    "    for i in range(1, ylen + 1):\n",
    "        for j in range(1, xlen + 1):\n",
    "            if y[i - 1] == x[j - 1]:\n",
    "                cost = 0\n",
    "            else:\n",
    "                cost = 1\n",
    "            \n",
    "            a[j, i] = min(a[j-1, i] + 1, a[j, i-1] + 1, a[j-1, i-1] + cost)\n",
    "    \n",
    "    return a[xlen, ylen]"
   ]
  },
  {
   "cell_type": "markdown",
   "metadata": {},
   "source": [
    "Use this test to confirm your implementation is correct."
   ]
  },
  {
   "cell_type": "code",
   "execution_count": 3,
   "metadata": {
    "collapsed": false
   },
   "outputs": [
    {
     "name": "stdout",
     "output_type": "stream",
     "text": [
      "True\n",
      "True\n",
      "True\n",
      "True\n",
      "True\n",
      "True\n",
      "True\n",
      "pass\n"
     ]
    }
   ],
   "source": [
    "print(levenshtein_distance('', 'four') == 4)\n",
    "print(levenshtein_distance('smidge', '') == 6)\n",
    "print(levenshtein_distance('sunny', 'snowy') == 3)\n",
    "print(levenshtein_distance('algorithm', 'altruistic') == 6)\n",
    "print(levenshtein_distance('imperial', 'empirical') == 3)\n",
    "print(levenshtein_distance('weird', 'wired') == 2)\n",
    "print(levenshtein_distance('inconsidrable', 'able') == 9)\n",
    "\n",
    "# note this function is not written by us\n",
    "# taken from https://www.stavros.io/posts/finding-the-levenshtein-distance-in-python/\n",
    "# to be used as an oracle for testing only, please ignore this\n",
    "def testl(first, second):\n",
    "    \"\"\"Find the Levenshtein distance between two strings.\"\"\"\n",
    "    if len(first) > len(second):\n",
    "        first, second = second, first\n",
    "    if len(second) == 0:\n",
    "        return len(first)\n",
    "    first_length = len(first) + 1\n",
    "    second_length = len(second) + 1\n",
    "    distance_matrix = [[0] * second_length for x in range(first_length)]\n",
    "    for i in range(first_length):\n",
    "       distance_matrix[i][0] = i\n",
    "    for j in range(second_length):\n",
    "       distance_matrix[0][j]=j\n",
    "    for i in range(1, first_length):\n",
    "        for j in range(1, second_length):\n",
    "            deletion = distance_matrix[i-1][j] + 1\n",
    "            insertion = distance_matrix[i][j-1] + 1\n",
    "            substitution = distance_matrix[i-1][j-1]\n",
    "            if first[i-1] != second[j-1]:\n",
    "                substitution += 1\n",
    "            distance_matrix[i][j] = min(insertion, deletion, substitution)\n",
    "    return distance_matrix[first_length-1][second_length-1]\n",
    "\n",
    "from random import choice, randint\n",
    "from string import ascii_lowercase\n",
    "# max length of string used for each test\n",
    "maxl = 100\n",
    "# number of test cases\n",
    "testcases = 1000\n",
    "# generate a random string for testing\n",
    "def randomString():\n",
    "    return ''.join(choice(ascii_lowercase) for i in range(randint(0, maxl)))\n",
    "\n",
    "p = 'pass'\n",
    "for i in range(testcases):\n",
    "    s1 = randomString()\n",
    "    s2 = randomString()\n",
    "    if not(testl(s1, s2) == levenshtein_distance(s1, s2)):\n",
    "        print(s1)\n",
    "        print(s2)\n",
    "        print(testl(s1, s2))\n",
    "        print(levenshtein_distance(s1, s2))\n",
    "        p = 'fail'\n",
    "        break\n",
    "print(p)"
   ]
  },
  {
   "cell_type": "markdown",
   "metadata": {},
   "source": [
    "### 2b. Find the minimum levenshtein distance"
   ]
  },
  {
   "cell_type": "markdown",
   "metadata": {},
   "source": [
    "Use your `levenshtein_distance` function to find the `closest_match` between a `candidate` word and an iterable of `words`. Note that if multiple words from `words` share the minimal edit distance to the `candidate`, you should return the word which would come first in a dictionary. \n",
    "\n",
    "As a concrete example, `zark` has an edit distance of 1 with both `ark` and `bark`, but you would return `ark` as it comes lexicographically before `bark`.\n",
    "\n",
    "Your function should return a tuple of two values - first the closest word match, and secondly the edit distance between this word and the candidate.\n",
    "\n",
    "```python\n",
    "closest, distance = closest_match('zark', ['ark', 'bark', ...])\n",
    "assert closest == 'ark'\n",
    "assert distance == 1\n",
    "```"
   ]
  },
  {
   "cell_type": "code",
   "execution_count": 7,
   "metadata": {
    "collapsed": false
   },
   "outputs": [],
   "source": [
    "def closest_match(candidate, words):\n",
    "    \n",
    "    # Get arbitrary word to start with\n",
    "    closest_word = words.pop()\n",
    "    distance = levenshtein_distance(candidate, closest_word)\n",
    "    \n",
    "    for word in words:\n",
    "        try_distance = levenshtein_distance(candidate, word)\n",
    "        # if 2 wrods have same distance return the one with less exicographical order\n",
    "        if (try_distance < distance) or ((try_distance == distance) and (word < closest_word)):\n",
    "            distance = try_distance        \n",
    "            closest_word = word\n",
    "\n",
    "    return (closest_word, distance)"
   ]
  },
  {
   "cell_type": "markdown",
   "metadata": {},
   "source": [
    "Run the below cell to test your implementation"
   ]
  },
  {
   "cell_type": "code",
   "execution_count": 8,
   "metadata": {
    "collapsed": false
   },
   "outputs": [
    {
     "name": "stdout",
     "output_type": "stream",
     "text": [
      "zilophone: xylophone (2.0)\n",
      "inconsidrable: inconsiderable (1.0)\n",
      "bisamfiguatd: disambiguate (3.0)\n"
     ]
    }
   ],
   "source": [
    "# A one liner that queries closest_match and then prints the result\n",
    "print_closest = lambda w, wl: print('{}: {} ({})'.format(w, *closest_match(w, wl)))\n",
    "\n",
    "print_closest('zilophone', wordlist)\n",
    "print_closest('inconsidrable', wordlist)\n",
    "print_closest('bisamfiguatd', wordlist)"
   ]
  },
  {
   "cell_type": "markdown",
   "metadata": {},
   "source": [
    "**Discuss in a few lines the running time of `closest_match`. Can you propose any ideas for making this faster? (Only discuss those in words, no need to do any implementations, unless you want to.)**"
   ]
  },
  {
   "cell_type": "markdown",
   "metadata": {},
   "source": [
    "Let the number of words be k, length of candidate be m and average length of words be m, then the runtime of `closest_match()` is O(m*n*k), since each run of `levenshtein_distance()` is approximately O(k * m), and that `closest_match()` has to iterate through all the words to find the word with the least edit distance and lexicographical order. One method of improve running time is to edit `levenshtein_distance()` to take an extra parameter, `threshold`. Where `threshold` is the current minimum edit distance, if the current computation already has a minimum edit distance greater than `threshold`, than the computation of edit distance should abort and go to the next string. Second optimisation is to precompute a prefix tree of words and search the tree using a depth search and recording the current minimum. Once a branch has edit distance greater than current miniumu, all further sub branches should be pruned and should no longer be considered."
   ]
  }
 ],
 "metadata": {
  "kernelspec": {
   "display_name": "Python 3",
   "language": "python",
   "name": "python3"
  },
  "language_info": {
   "codemirror_mode": {
    "name": "ipython",
    "version": 3
   },
   "file_extension": ".py",
   "mimetype": "text/x-python",
   "name": "python",
   "nbconvert_exporter": "python",
   "pygments_lexer": "ipython3",
   "version": "3.4.4"
  }
 },
 "nbformat": 4,
 "nbformat_minor": 0
}
