{
 "cells": [
  {
   "cell_type": "markdown",
   "metadata": {},
   "source": [
    "# Algorithms 202: Coursework 1 Task 1: Sorting"
   ]
  },
  {
   "cell_type": "markdown",
   "metadata": {},
   "source": [
    "Group-ID: 23"
   ]
  },
  {
   "cell_type": "markdown",
   "metadata": {},
   "source": [
    "Group members:\n",
    "* John Oliver (jpo14)\n",
    "* Bálint Rikker (br1414)\n",
    "* Peng Peng (pp3613)"
   ]
  },
  {
   "cell_type": "markdown",
   "metadata": {},
   "source": [
    "# Objectives"
   ]
  },
  {
   "cell_type": "markdown",
   "metadata": {},
   "source": [
    "The aim of this coursework is to enhance your algorithmic skills by mastering the divide and conquer and dynamic programming strategies. You are asked to show that you can:\n",
    "\n",
    "- implement divide and conquer solutions for given problems\n",
    "- compare naive and advanced implementations of algorithms solving the same problem\n",
    "\n",
    "This notebook *is* the coursework. It contains cells with function definitions that you will need to complete. You will submit this notebook as your coursework.\n",
    "\n",
    "The comparisons of different algorithms involve textual descriptions and graphical plots. For graphing you will be using [matplotlib](http://matplotlib.org/index.html) to generate plots. [This tutorial](http://matplotlib.org/index.html) will be useful to go through to get you up to speed. For the textual descriptions you may wish to use [LaTeX](http://en.wikipedia.org/wiki/LaTeX) inline like $\\mathcal{O}(n\\log{}n)$. Double click this cell to reveal the required markup - and [see here](http://texblog.org/2014/06/24/big-o-and-related-notations-in-latex/) for useful guidance on producing common symbols used in asymptotic run time analysis."
   ]
  },
  {
   "cell_type": "markdown",
   "metadata": {},
   "source": [
    "# Preliminaries: helper functions"
   ]
  },
  {
   "cell_type": "markdown",
   "metadata": {},
   "source": [
    "Here we define a collection of functions that will be useful for the rest of the coursework. You'll need to run this cell to get started."
   ]
  },
  {
   "cell_type": "code",
   "execution_count": 3,
   "metadata": {
    "collapsed": false
   },
   "outputs": [],
   "source": [
    "# so our plots get drawn in the notebook\n",
    "%matplotlib inline\n",
    "from matplotlib import pyplot as plt\n",
    "from random import randint\n",
    "from time import clock\n",
    "\n",
    "# a timer - runs the provided function and reports the\n",
    "# run time in ms\n",
    "def time_f(f):\n",
    "    before = clock()\n",
    "    f()\n",
    "    after = clock()\n",
    "    return after - before\n",
    "\n",
    "# remember - lambdas are just one line functions\n",
    "\n",
    "# make us a random list length (between 1 - 2000)\n",
    "rand_len = lambda max_len=2e3: randint(1, max_len)\n",
    "\n",
    "# choose a random value for a list element (between 0 1e6)\n",
    "rand_int = lambda: randint(0, 1e6)\n",
    "\n",
    "# generate a random list of random length -\n",
    "# here we use a list comprehension, a very tidy\n",
    "# way of transforming lists of data\n",
    "rand_list = lambda max_len=2e3: [rand_int() \n",
    "                                 for i in range(rand_len(max_len=max_len))]\n",
    "\n",
    "# generate a random list of given length\n",
    "def rlist(x):\n",
    "    return [rand_int() for i in range(x)]"
   ]
  },
  {
   "cell_type": "markdown",
   "metadata": {},
   "source": [
    "## Task 1: Sorting"
   ]
  },
  {
   "cell_type": "markdown",
   "metadata": {},
   "source": [
    "In this task you are asked to implement `insertion_sort` and `merge_sort`. You need to perform an experimental analysis of their running time. Based on your analysis, you should implement a third sorting algorithm, `hybrid_sort`, which is similar to `merge_sort` but uses `insertion_sort` for the base case. The problem size for which the base case is invoked has to be inferred from the running time analysis."
   ]
  },
  {
   "cell_type": "markdown",
   "metadata": {},
   "source": [
    "### 1a. Implement `insertion_sort`"
   ]
  },
  {
   "cell_type": "markdown",
   "metadata": {},
   "source": [
    "Complete the below definition for `insertion_sort`. Do not change the name of the function or it's arguments. \n",
    "\n",
    "\n",
    "Hints:\n",
    "\n",
    "- Your sort should be in-place (i.e. it changes the input list for the caller) but you should also return the list so the function can be called as indicated below."
   ]
  },
  {
   "cell_type": "code",
   "execution_count": 6,
   "metadata": {
    "collapsed": false
   },
   "outputs": [],
   "source": [
    "# an implementation of inplace insertion sort\n",
    "def insertion_sort(a):\n",
    "    if len(a) <= 1:\n",
    "        return a\n",
    "    # insert each element from 2nd to last to the list just before the element\n",
    "    for i in range(1, len(a)):\n",
    "        key = a[i]\n",
    "        j = i - 1\n",
    "        # finding the right place to insert\n",
    "        while (j >= 0 and a[j] > key):\n",
    "            a[j + 1] = a[j]\n",
    "            j -= 1\n",
    "        # insert the element\n",
    "        a[j + 1] = key\n",
    "    return a"
   ]
  },
  {
   "cell_type": "markdown",
   "metadata": {},
   "source": [
    "Use this test to confirm your implementation is correct."
   ]
  },
  {
   "cell_type": "code",
   "execution_count": 7,
   "metadata": {
    "collapsed": false
   },
   "outputs": [
    {
     "name": "stdout",
     "output_type": "stream",
     "text": [
      "True\n"
     ]
    }
   ],
   "source": [
    "# the number of test cases\n",
    "num_tests = 1000\n",
    "\n",
    "p = True\n",
    "for x in range(0, num_tests):\n",
    "    l = rand_list()\n",
    "    l_copy = list(l)\n",
    "    l_copy.sort()\n",
    "    if not(l_copy == insertion_sort(l)):\n",
    "        p = False\n",
    "        break\n",
    "print(p)"
   ]
  },
  {
   "cell_type": "markdown",
   "metadata": {},
   "source": [
    "### 1b. Implement `merge_sort`"
   ]
  },
  {
   "cell_type": "markdown",
   "metadata": {},
   "source": [
    "Complete the below definition for `merge_sort`. Do not change the name of the function or it's arguments.\n",
    "\n",
    "Hints:\n",
    "\n",
    "- Your implementation should leave the input list unmodified for the caller\n",
    "- You are free to define other functions in this cell"
   ]
  },
  {
   "cell_type": "code",
   "execution_count": 8,
   "metadata": {
    "collapsed": false
   },
   "outputs": [],
   "source": [
    "# an implementation of merge sort does not modify given list\n",
    "def merge_sort(a):\n",
    "    length = len(a)\n",
    "    if (length <= 1):\n",
    "        return a\n",
    "    # splitting the list\n",
    "    sen   = length // 2\n",
    "    # sort each half\n",
    "    left  = merge_sort(a[:sen])\n",
    "    right = merge_sort(a[sen:])\n",
    "    # merging\n",
    "    return list(merge(left, right))\n",
    "\n",
    "# merge 2 sorted list\n",
    "def merge(left, right):\n",
    "    result = []\n",
    "    while (len(left) > 0 and len(right) > 0):\n",
    "        if (left[0] < right[0]):\n",
    "            result.append(left[0])\n",
    "            left = left[1:]\n",
    "        else:\n",
    "            result.append(right[0])\n",
    "            right = right[1:]\n",
    "\n",
    "    if (len(left) > 0):\n",
    "        result += left[0:]\n",
    "    if (len(right) > 0):\n",
    "        result += right[0:]\n",
    "    return result"
   ]
  },
  {
   "cell_type": "markdown",
   "metadata": {},
   "source": [
    "Use this test to confirm your implementation is correct."
   ]
  },
  {
   "cell_type": "code",
   "execution_count": 9,
   "metadata": {
    "collapsed": false
   },
   "outputs": [
    {
     "name": "stdout",
     "output_type": "stream",
     "text": [
      "True\n"
     ]
    }
   ],
   "source": [
    "# number of test cases\n",
    "num_tests = 1000\n",
    "\n",
    "p = True\n",
    "for x in range(0, num_tests):\n",
    "    l = rand_list()\n",
    "    l_ms = merge_sort(l)\n",
    "    l.sort()\n",
    "    if not(l == l_ms):\n",
    "        p = False\n",
    "        break\n",
    "print(p)"
   ]
  },
  {
   "cell_type": "markdown",
   "metadata": {},
   "source": [
    "### 1c. Analyse the running time performance of `insertion_sort` and `merge_sort`"
   ]
  },
  {
   "cell_type": "markdown",
   "metadata": {},
   "source": [
    "Draw a graph showing the run time performance of your `insertion_sort` and `merge_sort` for different lengths of random integers. Analyse the performance at the large scale ($n \\approx 10^3$) and small scale ($n \\approx 10$). To remove noisy measurements, you might want to repeat the analysis several times and estimate average performance for different $n$."
   ]
  },
  {
   "cell_type": "code",
   "execution_count": 10,
   "metadata": {
    "collapsed": false
   },
   "outputs": [
    {
     "data": {
      "text/plain": [
       "(0, 0.00035)"
      ]
     },
     "execution_count": 10,
     "metadata": {},
     "output_type": "execute_result"
    },
    {
     "data": {
      "image/png": "[encoded data removed]",
      "text/plain": [
       "<matplotlib.figure.Figure at 0x7f224032bbe0>"
      ]
     },
     "metadata": {},
     "output_type": "display_data"
    }
   ],
   "source": [
    "# time for insertion sort, time for merge sort, nunber of elements\n",
    "insert_t, merge_t, n = [], [], []\n",
    "\n",
    "# starting test list size\n",
    "start = 1\n",
    "# largest test list size\n",
    "end = 100\n",
    "# number of times to repeat test for each length, higher number produce smoother plot\n",
    "feq = 500\n",
    "\n",
    "# plotting\n",
    "for x in range(start, end):\n",
    "    t1 = 0\n",
    "    t2 = 0\n",
    "    for y in range(0, feq):\n",
    "        l = rlist(x)\n",
    "        t2 += time_f(lambda: merge_sort(l))\n",
    "        t1 += time_f(lambda: insertion_sort(l))\n",
    "    insert_t.append(t1 / float(feq))\n",
    "    merge_t.append(t2 / float(feq))\n",
    "    n.append(x)\n",
    "\n",
    "plt.plot(n, insert_t, c='green')\n",
    "plt.plot(n, merge_t, c='red')\n",
    "plt.xlim(start)\n",
    "plt.ylim(0)"
   ]
  },
  {
   "cell_type": "markdown",
   "metadata": {},
   "source": [
    "**Now discuss your findings in a few lines in the below cell:**"
   ]
  },
  {
   "cell_type": "markdown",
   "metadata": {},
   "source": [
    "From the above plot, it can be seen that merge sort has $\\mathcal{O}(n\\log{}n)$ time complexity, while that for inserion sort is $n^2$. This means that as n (length of sorted list) increases, the rate of increase of time for merge sort is smaller than insertion sort, meaning that in the limit, merge sort is always faster than insertion sort. This is inline with the plot for large n ($n >= 1000$), where the graph for merge sort lies below the graph for insertion sort, and the gap between the graph widens as n increases. However, for small n ($n <= 90$), the plot shows that due to a smaller overhead, the graph of insertion sort lies below the graph of merge sort. Since the two graphs intersect at 0 and 90, and for the range $[0, 90]$, insertion sort is faster than merge sort, hybrid sort use insertion sort as a base case for lists of length strictly less than 90. For the best performance, we have chosen the threshold to be 80 (since at 80, there is a significant performance difference between merge sort and insertion sort, chosing 80 will allow hybrid sort to always perform better than merge sort and insertion sort)."
   ]
  },
  {
   "cell_type": "markdown",
   "metadata": {},
   "source": [
    "### 1d. Implement `hybrid_sort()`"
   ]
  },
  {
   "cell_type": "markdown",
   "metadata": {},
   "source": [
    "Implement `hybrid_sort()`, a `merge_sort()` variant which uses `insertion_sort()` for the base case. The problem size for which the base case is invoked has to be inferred from your above running time analysis."
   ]
  },
  {
   "cell_type": "code",
   "execution_count": 12,
   "metadata": {
    "collapsed": false
   },
   "outputs": [],
   "source": [
    "# a hybrid sort that uses merge sort for large list\n",
    "# and switch to insertion sort when the size of list is below threshold\n",
    "threshold = 80\n",
    "\n",
    "def hybrid_sort(a):\n",
    "    length = len(a)\n",
    "    if (length <= 1):\n",
    "        return a\n",
    "    # threshold reached\n",
    "    if (length < threshold):\n",
    "        return insertion_sort(a)\n",
    "    sen   = length // 2\n",
    "    left  = hybrid_sort(a[:sen])\n",
    "    right = hybrid_sort(a[sen:])\n",
    "    return list(merge(left, right))"
   ]
  },
  {
   "cell_type": "markdown",
   "metadata": {},
   "source": [
    "Use this test to confirm your implementation is correct."
   ]
  },
  {
   "cell_type": "code",
   "execution_count": 13,
   "metadata": {
    "collapsed": false
   },
   "outputs": [
    {
     "name": "stdout",
     "output_type": "stream",
     "text": [
      "True\n"
     ]
    }
   ],
   "source": [
    "# number pf test cases\n",
    "num_tests = 1000\n",
    "\n",
    "p = True\n",
    "for x in range(0, num_tests):\n",
    "    l = rand_list()\n",
    "    l_copy = list(l)\n",
    "    l_copy.sort()\n",
    "    if not(l_copy == hybrid_sort(l)):\n",
    "        p = False\n",
    "        break\n",
    "print(p)"
   ]
  },
  {
   "cell_type": "markdown",
   "metadata": {},
   "source": [
    "### 1e. Analyse all three sorting implementations together"
   ]
  },
  {
   "cell_type": "markdown",
   "metadata": {},
   "source": [
    "Draw a graph showing the running time performance of your `insertion_sort()`, `merge_sort()` and `hybrid_sort()` for different lengths of random integers."
   ]
  },
  {
   "cell_type": "code",
   "execution_count": 14,
   "metadata": {
    "collapsed": false
   },
   "outputs": [
    {
     "data": {
      "text/plain": [
       "(0, 0.0014)"
      ]
     },
     "execution_count": 14,
     "metadata": {},
     "output_type": "execute_result"
    },
    {
     "data": {
      "image/png": "[encoded data removed]",
      "text/plain": [
       "<matplotlib.figure.Figure at 0x7f22253aff98>"
      ]
     },
     "metadata": {},
     "output_type": "display_data"
    }
   ],
   "source": [
    "# time for insertion sort, time for merge sort, time for hybrid sort, nunber of elements\n",
    "insert_t, merge_t, hybrid_t, n = [], [], [], []\n",
    "\n",
    "# starting test list size\n",
    "start = 1\n",
    "# largest test list size\n",
    "end = 200\n",
    "# number of times to repeat test for each length, higher number produce smoother plot\n",
    "feq = 500\n",
    "\n",
    "# plotting\n",
    "for x in range(start, end):\n",
    "    t1 = 0\n",
    "    t2 = 0\n",
    "    t3 = 0\n",
    "    for y in range(0, feq):\n",
    "        l = rlist(x)\n",
    "        l_copy = list(l)\n",
    "        t2 += time_f(lambda: merge_sort(l))\n",
    "        t1 += time_f(lambda: insertion_sort(l))\n",
    "        t3 += time_f(lambda: hybrid_sort(l_copy))\n",
    "    insert_t.append(t1 / feq)\n",
    "    merge_t.append(t2 / feq)\n",
    "    hybrid_t.append(t3 / feq)\n",
    "    n.append(x)\n",
    "plt.plot(n, insert_t, c='green')\n",
    "plt.plot(n, merge_t, c='red')\n",
    "plt.plot(n, hybrid_t, c='blue')\n",
    "\n",
    "plt.xlim(start)\n",
    "plt.ylim(0)"
   ]
  },
  {
   "cell_type": "markdown",
   "metadata": {},
   "source": [
    "**Now discuss your findings in a few lines in the below cell:**"
   ]
  },
  {
   "cell_type": "markdown",
   "metadata": {},
   "source": [
    "In the plot above, it can be seen that the graph of hybrid sort follows the graph of insertion sort until the graph of insertion sort almost intersect with the graph of merge sort. From there onwards, the graph of hybrid sort follows the same general trend as that of the graph of merge sort. However, the graph of hybrid sort is oscilating up and down and always lie below that of merge sort. This is because for large n hybrid sort perform the same operation as merge sort, but the running time of base case of hybrid sort is improved by insertion sort. The oscillation is due to the fact that the difference in running time between merge sort and insertion sort between 0 and 80 (the chosen threshold) is varying. More specifically, the difference in running time first increases slightly and then deceases from 40 (the smallest possible base case = threshold / 2) to 80. As n increases, the average size of lists that triggered the base case of hybrid sort goes in a period from 40 to 80. This is why the difference in running time between hybrid sort and merge sort goes in a perid where it first increases slightly and then decreases to a minimal (base case size approach 80) and then abruptly widens as the base case size becomes approximately 40 again."
   ]
  }
 ],
 "metadata": {
  "kernelspec": {
   "display_name": "Python 3",
   "language": "python",
   "name": "python3"
  },
  "language_info": {
   "codemirror_mode": {
    "name": "ipython",
    "version": 3
   },
   "file_extension": ".py",
   "mimetype": "text/x-python",
   "name": "python",
   "nbconvert_exporter": "python",
   "pygments_lexer": "ipython3",
   "version": "3.4.4"
  }
 },
 "nbformat": 4,
 "nbformat_minor": 0
}
